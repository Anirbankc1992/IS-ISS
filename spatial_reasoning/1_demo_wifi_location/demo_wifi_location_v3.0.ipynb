{
 "cells": [
  {
   "cell_type": "markdown",
   "metadata": {},
   "source": [
    "# Demo: Spatial reasoning using WiFi Fingerprinting\n",
    "\n",
    "Course: NICF- Spatial Reasoning from Sensor Data (SF)\n",
    "\n",
    "Website: https://www.iss.nus.edu.sg/executive-education/course/detail/spatial-reasoning-from-sensor-data/artificial-intelligence\n",
    "\n",
    "Contact: Dr. Tian Jing\n",
    "\n",
    "Email: tianjing@nus.edu.sg\n",
    "\n",
    "\n",
    "## Objective\n",
    "\n",
    "- Perform spatial reasoning using WiFi fingerprinting\n",
    "\n",
    "## Installation guideline\n",
    "\n",
    "- Open `Anaconda Prompt`\n",
    "\n",
    "- Append the channel `conda-forge` into your conda configuration.\n",
    "\n",
    "`conda config --append channels conda-forge`\n",
    "\n",
    "- Create a new virtual environment `srsdv` or install additional packages in your own environment\n",
    "\n",
    "**[Windows, CPU version]**\n",
    "\n",
    "`conda create -n srsdv python=3.6 numpy=1.15.1 opencv=3.4.2 matplotlib=2.2.3 tensorflow=1.12.0 scipy=1.1.0 scikit-learn=0.19.1 spyder=3.3.2 yaml=0.1.7 keras=2.2.4 pillow=5.4.1 notebook=5.7.4 pandas=0.24.2 h5py=2.8.0`\n",
    "\n",
    "**[Windows, GPU version, CUDA 9.0]**\n",
    "\n",
    "`conda create -n srsdv python=3.6 numpy=1.15.1 opencv=3.4.2 matplotlib=2.2.3 tensorflow-gpu=1.12.0 scipy=1.1.0 scikit-learn=0.19.1 spyder=3.3.2 yaml=0.1.7 keras-gpu=2.2.4 pillow=5.4.1 notebook=5.7.4 pandas=0.24.2 h5py=2.8.0`\n",
    "\n",
    "- Activate the environment `srsdv`\n",
    "\n",
    "`conda activate srsdv`\n",
    "\n",
    "- Browse to the folder that contains the workshop files, then run `Jupyter Notebook`\n",
    "\n",
    "`jupyter notebook`\n",
    "\n",
    "\n",
    "## Reference\n",
    "\n",
    "- Dataset: UJIIndoorLoc Dataset: https://www.kaggle.com/giantuji/UjiIndoorLoc\n"
   ]
  },
  {
   "cell_type": "code",
   "execution_count": 1,
   "metadata": {},
   "outputs": [
    {
     "name": "stdout",
     "output_type": "stream",
     "text": [
      "Tensorflow version:  1.12.0\n",
      "/device:GPU:0\n"
     ]
    }
   ],
   "source": [
    "\n",
    "import numpy as np\n",
    "import os\n",
    "from sklearn.preprocessing import scale\n",
    "from sklearn.metrics import confusion_matrix\n",
    "from tensorflow.keras.models import Sequential\n",
    "from tensorflow.keras.layers import Dense, Dropout\n",
    "import pandas as pd\n",
    "import tensorflow as tf\n",
    "\n",
    "print(\"Tensorflow version: \", tf.__version__)\n",
    "print(tf.test.gpu_device_name())\n"
   ]
  },
  {
   "cell_type": "code",
   "execution_count": 2,
   "metadata": {},
   "outputs": [
    {
     "name": "stdout",
     "output_type": "stream",
     "text": [
      "(19930, 13)\n"
     ]
    }
   ],
   "source": [
    "path_train = \"UJIIndoorLoc_trainingData.csv\"\n",
    "path_validation = \"UJIIndoorLoc_validationData.csv\"\n",
    "\n",
    "#Explicitly pass header=0 to be able to replace existing names \n",
    "train_df = pd.read_csv(path_train,header = 0)\n",
    "train_df = train_df[:19930]\n",
    "train_AP_strengths = train_df.iloc[:,:520] #select first 520 columns\n",
    "\n",
    "#Scale transforms data to center to the mean and component wise scale to unit variance\n",
    "train_AP_features = scale(np.asarray(train_AP_strengths).astype('float64'))\n",
    "\n",
    "#The following two objects are actually pandas.core.series.Series objects\n",
    "building_ids_str = train_df[\"BUILDINGID\"].map(str) #convert all the building ids to strings\n",
    "building_floors_str = train_df[\"FLOOR\"].map(str) #convert all the building floors to strings\n",
    "\n",
    "res = building_ids_str + building_floors_str #element wise concatenation of BUILDINGID+FLOOR\n",
    "train_labels = np.asarray(building_ids_str + building_floors_str)\n",
    "class_label = np.unique(train_labels)\n",
    "\n",
    "#convert labels to categorical variables, dummy_labels has type 'pandas.core.frame.DataFrame'\n",
    "dummy_labels = pd.get_dummies(train_labels)\n",
    "\n",
    "# one hot encode the dummy_labels. this is done because dummy_labels is a dataframe with the labels (BUILDINGID+FLOOR) as the column names\n",
    "\n",
    "train_labels = np.asarray(dummy_labels)\n",
    "\n",
    "print(train_labels.shape)"
   ]
  },
  {
   "cell_type": "code",
   "execution_count": 3,
   "metadata": {},
   "outputs": [],
   "source": [
    "# Split dataset\n",
    "train_val_split = np.random.rand(len(train_AP_features))\n",
    "train_val_split = train_val_split < 0.70 #should contain ~70% percent true\n",
    "# We will then split our given training set into training + validation \n",
    "train_X = train_AP_features[train_val_split]\n",
    "train_y = train_labels[train_val_split]\n",
    "val_X = train_AP_features[~train_val_split]\n",
    "val_y = train_labels[~train_val_split]\n"
   ]
  },
  {
   "cell_type": "code",
   "execution_count": 4,
   "metadata": {},
   "outputs": [
    {
     "name": "stderr",
     "output_type": "stream",
     "text": [
      "C:\\Users\\isstj\\AppData\\Local\\Continuum\\anaconda3\\envs\\kanchi\\lib\\site-packages\\sklearn\\utils\\validation.py:595: DataConversionWarning: Data with input dtype int64 was converted to float64 by the scale function.\n",
      "  warnings.warn(msg, DataConversionWarning)\n"
     ]
    }
   ],
   "source": [
    "#Turn the given validation set into a testing set\n",
    "test_df = pd.read_csv(path_validation,header = 0)\n",
    "test_AP_features = scale(np.asarray(test_df.iloc[:,0:520]))\n",
    "test_labels = np.asarray(test_df[\"BUILDINGID\"].map(str) + test_df[\"FLOOR\"].map(str))\n",
    "test_labels = np.asarray(pd.get_dummies(test_labels))"
   ]
  },
  {
   "cell_type": "code",
   "execution_count": 5,
   "metadata": {},
   "outputs": [],
   "source": [
    "nb_epochs = 10\n",
    "batch_size = 10\n",
    "input_size = 520\n",
    "num_classes = 13"
   ]
  },
  {
   "cell_type": "code",
   "execution_count": 6,
   "metadata": {},
   "outputs": [
    {
     "name": "stdout",
     "output_type": "stream",
     "text": [
      "_________________________________________________________________\n",
      "Layer (type)                 Output Shape              Param #   \n",
      "=================================================================\n",
      "dense (Dense)                (None, 256)               133376    \n",
      "_________________________________________________________________\n",
      "dense_1 (Dense)              (None, 128)               32896     \n",
      "_________________________________________________________________\n",
      "dense_2 (Dense)              (None, 64)                8256      \n",
      "=================================================================\n",
      "Total params: 174,528\n",
      "Trainable params: 174,528\n",
      "Non-trainable params: 0\n",
      "_________________________________________________________________\n",
      "_________________________________________________________________\n",
      "Layer (type)                 Output Shape              Param #   \n",
      "=================================================================\n",
      "dense (Dense)                (None, 256)               133376    \n",
      "_________________________________________________________________\n",
      "dense_1 (Dense)              (None, 128)               32896     \n",
      "_________________________________________________________________\n",
      "dense_2 (Dense)              (None, 64)                8256      \n",
      "_________________________________________________________________\n",
      "dense_3 (Dense)              (None, 128)               8320      \n",
      "_________________________________________________________________\n",
      "dense_4 (Dense)              (None, 256)               33024     \n",
      "_________________________________________________________________\n",
      "dense_5 (Dense)              (None, 520)               133640    \n",
      "=================================================================\n",
      "Total params: 349,512\n",
      "Trainable params: 349,512\n",
      "Non-trainable params: 0\n",
      "_________________________________________________________________\n"
     ]
    }
   ],
   "source": [
    "#Define model\n",
    "def encoder():\n",
    "    model = Sequential()\n",
    "    model.add(Dense(256, input_dim=input_size, activation='tanh', use_bias=True))\n",
    "    model.add(Dense(128, activation='tanh', use_bias=True))\n",
    "    model.add(Dense(64, activation='tanh', use_bias=True))\n",
    "    return model\n",
    "\n",
    "def decoder(e):   \n",
    "    e.add(Dense(128, input_dim=64, activation='tanh', use_bias=True))\n",
    "    e.add(Dense(256, activation='tanh', use_bias=True))\n",
    "    e.add(Dense(input_size, activation='tanh', use_bias=True))\n",
    "    e.compile(optimizer='adam', loss='mse')\n",
    "    return e\n",
    "    \n",
    "e = encoder()\n",
    "e.summary()\n",
    "\n",
    "d_pre = decoder(e)\n",
    "d_pre.summary()\n",
    " "
   ]
  },
  {
   "cell_type": "code",
   "execution_count": 7,
   "metadata": {},
   "outputs": [
    {
     "name": "stdout",
     "output_type": "stream",
     "text": [
      "Epoch 1/10\n",
      "14057/14057 [==============================] - 5s 390us/step - loss: 0.7065\n",
      "Epoch 2/10\n",
      "14057/14057 [==============================] - 5s 326us/step - loss: 0.6827\n",
      "Epoch 3/10\n",
      "14057/14057 [==============================] - 5s 325us/step - loss: 0.6772\n",
      "Epoch 4/10\n",
      "14057/14057 [==============================] - 5s 325us/step - loss: 0.6743\n",
      "Epoch 5/10\n",
      "14057/14057 [==============================] - 5s 327us/step - loss: 0.6721\n",
      "Epoch 6/10\n",
      "14057/14057 [==============================] - 5s 329us/step - loss: 0.6702\n",
      "Epoch 7/10\n",
      "14057/14057 [==============================] - 5s 326us/step - loss: 0.6687\n",
      "Epoch 8/10\n",
      "14057/14057 [==============================] - 5s 326us/step - loss: 0.6671\n",
      "Epoch 9/10\n",
      "14057/14057 [==============================] - 5s 326us/step - loss: 0.6657\n",
      "Epoch 10/10\n",
      "14057/14057 [==============================] - 5s 325us/step - loss: 0.6647\n"
     ]
    }
   ],
   "source": [
    "hist = d_pre.fit(train_X, train_X, epochs=nb_epochs, batch_size=batch_size)"
   ]
  },
  {
   "cell_type": "code",
   "execution_count": 8,
   "metadata": {},
   "outputs": [
    {
     "name": "stdout",
     "output_type": "stream",
     "text": [
      "Train on 14057 samples, validate on 5873 samples\n",
      "Epoch 1/10\n",
      "14057/14057 [==============================] - 6s 437us/step - loss: 0.3199 - acc: 0.8872 - val_loss: 0.2036 - val_acc: 0.9271\n",
      "Epoch 2/10\n",
      "14057/14057 [==============================] - 6s 407us/step - loss: 0.1471 - acc: 0.9505 - val_loss: 0.1476 - val_acc: 0.9470\n",
      "Epoch 3/10\n",
      "14057/14057 [==============================] - 6s 404us/step - loss: 0.1104 - acc: 0.9628 - val_loss: 0.2029 - val_acc: 0.9321\n",
      "Epoch 4/10\n",
      "14057/14057 [==============================] - 6s 405us/step - loss: 0.0948 - acc: 0.9676 - val_loss: 0.1645 - val_acc: 0.9508\n",
      "Epoch 5/10\n",
      "14057/14057 [==============================] - 6s 406us/step - loss: 0.0788 - acc: 0.9726 - val_loss: 0.1834 - val_acc: 0.9411\n",
      "Epoch 6/10\n",
      "14057/14057 [==============================] - 6s 404us/step - loss: 0.0797 - acc: 0.9739 - val_loss: 0.1614 - val_acc: 0.9516\n",
      "Epoch 7/10\n",
      "14057/14057 [==============================] - 6s 408us/step - loss: 0.0698 - acc: 0.9777 - val_loss: 0.1734 - val_acc: 0.9508\n",
      "Epoch 8/10\n",
      "14057/14057 [==============================] - 6s 405us/step - loss: 0.0647 - acc: 0.9779 - val_loss: 0.1510 - val_acc: 0.9576\n",
      "Epoch 9/10\n",
      "14057/14057 [==============================] - 6s 402us/step - loss: 0.0652 - acc: 0.9777 - val_loss: 0.1763 - val_acc: 0.9489\n",
      "Epoch 10/10\n",
      "14057/14057 [==============================] - 6s 407us/step - loss: 0.0595 - acc: 0.9793 - val_loss: 0.1606 - val_acc: 0.9547\n",
      "_________________________________________________________________\n",
      "Layer (type)                 Output Shape              Param #   \n",
      "=================================================================\n",
      "dense (Dense)                (None, 256)               133376    \n",
      "_________________________________________________________________\n",
      "dense_1 (Dense)              (None, 128)               32896     \n",
      "_________________________________________________________________\n",
      "dense_2 (Dense)              (None, 64)                8256      \n",
      "_________________________________________________________________\n",
      "dense_6 (Dense)              (None, 128)               8320      \n",
      "_________________________________________________________________\n",
      "dense_7 (Dense)              (None, 128)               16512     \n",
      "_________________________________________________________________\n",
      "dense_8 (Dense)              (None, 13)                1677      \n",
      "=================================================================\n",
      "Total params: 201,037\n",
      "Trainable params: 201,037\n",
      "Non-trainable params: 0\n",
      "_________________________________________________________________\n"
     ]
    }
   ],
   "source": [
    "# Based on trained autoencoder features, define a classification model\n",
    "\n",
    "def classifier(d):\n",
    "    num_to_remove = 3\n",
    "    for i in range(num_to_remove):\n",
    "        d.pop()\n",
    "    d.add(Dense(128, input_dim=64, activation='tanh', use_bias=True))\n",
    "    d.add(Dense(128, activation='tanh', use_bias=True))\n",
    "    d.add(Dense(num_classes, activation='softmax', use_bias=True))\n",
    "    d.compile(optimizer='adam', loss='categorical_crossentropy', metrics=['accuracy'])\n",
    "    return d\n",
    "\n",
    "c = classifier(d_pre)\n",
    "c.fit(train_X, train_y, validation_data=(val_X, val_y), epochs=nb_epochs, batch_size=batch_size)\n",
    "c.summary()\n"
   ]
  },
  {
   "cell_type": "code",
   "execution_count": 9,
   "metadata": {},
   "outputs": [
    {
     "name": "stdout",
     "output_type": "stream",
     "text": [
      "Accuracy: 0.7381\n",
      "\n",
      "    00   01   02  03  10   11  12  13  20   21  22  23  24\n",
      "00  67   59    3   1   0    0   0   0   0    0   0   0   0\n",
      "01   6  127    8   0   0    0   0   0   0    0   0   0   0\n",
      "02   3   12  112  10   0    0   0   0   0    0   0   0   0\n",
      "03   0    0   41  71   0    0   0   0   0    1   0   0   0\n",
      "10   0    1    0   0  21   16   1   0   0    0   0   0   1\n",
      "11   0    0    0   0   7  101   2   0   0    0   0   0   0\n",
      "12   0    0    0   1   1   24  61  12   0    0   0   0   0\n",
      "13   2    4    0   0   0    2  22  34   0    0   0   0   0\n",
      "20   0    0    0   0   0    0   1   0  22    4   0   0   0\n",
      "21   0    1    1   2   0    0   0   0   2  100   3   0   0\n",
      "22   0    3    0   0   0    0   0   0   0    5  41   0   0\n",
      "23   0    1    0   0   1    0   0   0   0    1  10  36  11\n",
      "24   0    0    0   0   0    0   0   1   0    0   0   4  27\n"
     ]
    }
   ],
   "source": [
    "# Evaluate the performance\n",
    "\n",
    "loss, acc = c.evaluate(test_AP_features, test_labels, verbose=0)\n",
    "print('Accuracy: %.4f\\n' % acc)\n",
    "\n",
    "# Get the class id from the one-hot encoding\n",
    "predict_labels = c.predict(test_AP_features)\n",
    "predict_class = np.argmax(predict_labels, axis=1)\n",
    "test_class = np.argmax(test_labels, axis=1)\n",
    "# Display the confusion matrix\n",
    "print(pd.DataFrame(confusion_matrix(predict_class, test_class), index=class_label, columns=class_label))"
   ]
  },
  {
   "cell_type": "markdown",
   "metadata": {},
   "source": [
    "Have a nice day!"
   ]
  }
 ],
 "metadata": {
  "kernelspec": {
   "display_name": "Python 3",
   "language": "python",
   "name": "python3"
  },
  "language_info": {
   "codemirror_mode": {
    "name": "ipython",
    "version": 3
   },
   "file_extension": ".py",
   "mimetype": "text/x-python",
   "name": "python",
   "nbconvert_exporter": "python",
   "pygments_lexer": "ipython3",
   "version": "3.6.8"
  }
 },
 "nbformat": 4,
 "nbformat_minor": 1
}
